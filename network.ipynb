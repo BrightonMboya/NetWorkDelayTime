{
 "cells": [
  {
   "cell_type": "code",
   "execution_count": 17,
   "metadata": {},
   "outputs": [
    {
     "data": {
      "text/plain": [
       "-1"
      ]
     },
     "execution_count": 17,
     "metadata": {},
     "output_type": "execute_result"
    }
   ],
   "source": [
    "#  adjacency list\n",
    "def networkDelayTime(times,  n, k):\n",
    "    import heapq\n",
    "    from collections import defaultdict\n",
    "    edges = defaultdict(list)\n",
    "\n",
    "    for src, dst, cost in times:\n",
    "        edges[src].append((dst, cost))\n",
    "    \n",
    "    # creating a minHeap\n",
    "    minHeap = [(0, k)]\n",
    "    visited = set()\n",
    "\n",
    "    # t means whats the total cost of sending the signal at certain node k\n",
    "    t = 0\n",
    "\n",
    "    # now do the breadth first search\n",
    "    while minHeap:\n",
    "        currentNode = heapq.heappop(minHeap)\n",
    "\n",
    "        weight1, node1 = currentNode\n",
    "\n",
    "        # check if node1 is visited, if yes jump to the next iter\n",
    "        if node1 in visited:\n",
    "            continue\n",
    "\n",
    "        # else let's add it to the visited set\n",
    "        visited.add(node1)\n",
    "\n",
    "        t = max(t, weight1)\n",
    "\n",
    "        # consider the neighbours of node1 and add them to the minHeap\n",
    "        for weight2, node2 in edges[node1]:\n",
    "            if node2 not in visited:\n",
    "                heapq.heappush(minHeap, (weight1 + weight2, node2))\n",
    "    \n",
    "    # here return the result if you have visited all the nodes in the graph\n",
    "    return t if len(visited) == n else -1\n",
    "\n",
    "\n",
    "\n",
    "networkDelayTime([[2,1,1],[2,3,1],[3,4,1]], n=4, k=2)"
   ]
  },
  {
   "cell_type": "code",
   "execution_count": 16,
   "metadata": {},
   "outputs": [
    {
     "data": {
      "text/plain": [
       "2"
      ]
     },
     "execution_count": 16,
     "metadata": {},
     "output_type": "execute_result"
    }
   ],
   "source": [
    "def networkDelayTime(times, n, k):\n",
    "    import heapq\n",
    "    from collections import defaultdict\n",
    "    \n",
    "    #creating the adjacency list\n",
    "    edges = defaultdict(list)\n",
    "    \n",
    "    #add the destination and the weight it takes to reach there\n",
    "    for u,v,w in times:\n",
    "        edges[u].append((w, v))\n",
    "        \n",
    "    #creating the minHeap\n",
    "    minHeap = [(0, k)]\n",
    "    visited = set()\n",
    "    t = 0\n",
    "    \n",
    "    #now do the breadth first search\n",
    "    while minHeap:\n",
    "        currentNode = heapq.heappop(minHeap)\n",
    "        w1, n1 = currentNode\n",
    "        #check if n1 is visited, if yes jump to the next iter\n",
    "        if n1 in visited:\n",
    "            continue\n",
    "        visited.add(n1)\n",
    "\n",
    "        t = max(t, w1)\n",
    "\n",
    "        #consider the neighbors of n1 and add them to the queue\n",
    "        for w2, n2 in edges[n1]:\n",
    "            if n2 not in visited:\n",
    "                heapq.heappush(minHeap, (w1+w2, n2))\n",
    "            \n",
    "    #here return the result if you have visited all the nodes in the graph\n",
    "    return t if len(visited) == n else -1\n",
    "\n",
    "networkDelayTime([[2,1,1],[2,3,1],[3,4,1]], n=4, k=2)"
   ]
  },
  {
   "cell_type": "code",
   "execution_count": null,
   "metadata": {},
   "outputs": [],
   "source": []
  }
 ],
 "metadata": {
  "interpreter": {
   "hash": "d421f7e0be82773f79ff071f6681b3a26ad583fa2b319fe248c43945bdde9151"
  },
  "kernelspec": {
   "display_name": "Python 3.8.5 64-bit (conda)",
   "name": "python3"
  },
  "language_info": {
   "codemirror_mode": {
    "name": "ipython",
    "version": 3
   },
   "file_extension": ".py",
   "mimetype": "text/x-python",
   "name": "python",
   "nbconvert_exporter": "python",
   "pygments_lexer": "ipython3",
   "version": "3.8.5"
  },
  "orig_nbformat": 4
 },
 "nbformat": 4,
 "nbformat_minor": 2
}
